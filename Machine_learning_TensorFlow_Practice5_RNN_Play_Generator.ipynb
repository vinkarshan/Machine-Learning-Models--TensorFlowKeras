{
  "cells": [
    {
      "cell_type": "markdown",
      "source": [
        "# Recurrent Neural Network Play Generator\n",
        "We are going to use a RNN to generate a play. We will simply show the RNN an example of something we want it to recreate and it will learn how to write a version of it on its own. We'll do this using a character predictive model that will take as input a variable length sequence and predict the next character. We can use the model many times in a row with the output from the last predicition as the input for the next call to generate a sequence."
      ],
      "metadata": {
        "id": "4Nl_99ugdrtn"
      }
    },
    {
      "cell_type": "code",
      "source": [
        "from keras.preprocessing import sequence\n",
        "import keras\n",
        "import tensorflow as tf\n",
        "import os\n",
        "import numpy as np"
      ],
      "metadata": {
        "id": "XBYJuTgneD8k"
      },
      "execution_count": 2,
      "outputs": []
    },
    {
      "cell_type": "markdown",
      "source": [
        "###Dataset\n",
        "For this example, we only need one peice of training data. In fact, we can write our own poem or play and pass that to the network for training if we'd like. However, to make things easy we'll use an extract from a shakesphere play."
      ],
      "metadata": {
        "id": "rZF-n-KoedNx"
      }
    },
    {
      "cell_type": "code",
      "source": [
        "path_to_file = tf.keras.utils.get_file('shakespeare.txt', 'https://storage.googleapis.com/download.tensorflow.org/data/shakespeare.txt')"
      ],
      "metadata": {
        "colab": {
          "base_uri": "https://localhost:8080/"
        },
        "id": "pW_H0LifeqOC",
        "outputId": "ec974ea0-c487-4d2e-abb0-65c8e405d74c"
      },
      "execution_count": 3,
      "outputs": [
        {
          "output_type": "stream",
          "name": "stdout",
          "text": [
            "Downloading data from https://storage.googleapis.com/download.tensorflow.org/data/shakespeare.txt\n",
            "1122304/1115394 [==============================] - 0s 0us/step\n",
            "1130496/1115394 [==============================] - 0s 0us/step\n"
          ]
        }
      ]
    },
    {
      "cell_type": "markdown",
      "source": [
        "### Loading own data"
      ],
      "metadata": {
        "id": "WQsg-8ARe4AC"
      }
    },
    {
      "cell_type": "code",
      "source": [
        "#from google.colab import files\n",
        "#path_to_file = list(files.upload().keys())[0]"
      ],
      "metadata": {
        "id": "8I7TZF3Pe70E"
      },
      "execution_count": 4,
      "outputs": []
    },
    {
      "cell_type": "code",
      "source": [],
      "metadata": {
        "id": "uDn-oZOQfE6H"
      },
      "execution_count": 4,
      "outputs": []
    },
    {
      "cell_type": "markdown",
      "source": [
        "### Read contents of File\n"
      ],
      "metadata": {
        "id": "AMtCZRyzfxES"
      }
    },
    {
      "cell_type": "code",
      "source": [
        "# Read and then decode for py2 compat\n",
        "text = open(path_to_file, 'rb').read().decode(encoding = 'utf-8')\n",
        "# length of text is the number of characters in it\n",
        "print ('Length of text: {} characters'.format(len(text)))"
      ],
      "metadata": {
        "colab": {
          "base_uri": "https://localhost:8080/"
        },
        "id": "9cgDkb8Xf5Rn",
        "outputId": "4e5badc4-5499-48ec-d096-64ad8042e1e0"
      },
      "execution_count": 5,
      "outputs": [
        {
          "output_type": "stream",
          "name": "stdout",
          "text": [
            "Length of text: 1115394 characters\n"
          ]
        }
      ]
    },
    {
      "cell_type": "code",
      "source": [
        "print(text[:250])"
      ],
      "metadata": {
        "colab": {
          "base_uri": "https://localhost:8080/"
        },
        "id": "brTFPdjQggca",
        "outputId": "2da31be5-aeb7-477e-9174-9fa302d8ed89"
      },
      "execution_count": 6,
      "outputs": [
        {
          "output_type": "stream",
          "name": "stdout",
          "text": [
            "First Citizen:\n",
            "Before we proceed any further, hear me speak.\n",
            "\n",
            "All:\n",
            "Speak, speak.\n",
            "\n",
            "First Citizen:\n",
            "You are all resolved rather to die than to famish?\n",
            "\n",
            "All:\n",
            "Resolved. resolved.\n",
            "\n",
            "First Citizen:\n",
            "First, you know Caius Marcius is chief enemy to the people.\n",
            "\n"
          ]
        }
      ]
    },
    {
      "cell_type": "markdown",
      "source": [
        "## Encoding\n",
        "Since the text is not encoded , we are going to encode each unique character as different integer"
      ],
      "metadata": {
        "id": "JhxaYLfkhBAi"
      }
    },
    {
      "cell_type": "code",
      "source": [
        "vocab = sorted(set(text))\n",
        "# Creating a mapping from unique characters to indices\n",
        "char2idx = {u:i for i, u in enumerate(vocab)}\n",
        "idx2char = np.array(vocab)\n",
        "\n",
        "def text_to_int(text):\n",
        "  return np.array([char2idx[c] for c in text])\n",
        "\n",
        "text_as_int = text_to_int(text)"
      ],
      "metadata": {
        "id": "H0OrBHLkhN_S"
      },
      "execution_count": 7,
      "outputs": []
    },
    {
      "cell_type": "code",
      "source": [
        "# verify how encoding is done\n",
        "print(\"Text:\", text[:13])\n",
        "print(\"Encoded:\", text_to_int(text[:13]))"
      ],
      "metadata": {
        "colab": {
          "base_uri": "https://localhost:8080/"
        },
        "id": "x6cSigmCiAus",
        "outputId": "d7e8bffd-b324-4d55-c26a-1a5fdd6fed51"
      },
      "execution_count": 8,
      "outputs": [
        {
          "output_type": "stream",
          "name": "stdout",
          "text": [
            "Text: First Citizen\n",
            "Encoded: [18 47 56 57 58  1 15 47 58 47 64 43 52]\n"
          ]
        }
      ]
    },
    {
      "cell_type": "code",
      "source": [
        "# reverse function to convert numeric values to text\n",
        "def int_to_text(ints):\n",
        "  #trying to creat integet to array if its not in array form\n",
        "  try:\n",
        "    ints = ints.numpy()\n",
        "  except:\n",
        "    pass\n",
        "  return ''.join(idx2char[ints])\n",
        "\n",
        "print(int_to_text(text_as_int[:13]))"
      ],
      "metadata": {
        "colab": {
          "base_uri": "https://localhost:8080/"
        },
        "id": "9o0havdOkQCW",
        "outputId": "aae82011-3a48-43be-b157-4d72e6e9f575"
      },
      "execution_count": 11,
      "outputs": [
        {
          "output_type": "stream",
          "name": "stdout",
          "text": [
            "First Citizen\n"
          ]
        }
      ]
    },
    {
      "cell_type": "code",
      "source": [],
      "metadata": {
        "id": "xPDMiCn5w_T7"
      },
      "execution_count": 9,
      "outputs": []
    },
    {
      "cell_type": "markdown",
      "source": [
        "###Creating Training Examples\n",
        "Remember our task is to feed the model a sequence and have it return to us the next character. This means we need to split our text data from above into many shorter sequences that we can pass to the model as training examples. \n",
        "\n",
        "The training examples we will prepapre will use a *seq_length* sequence as input and a *seq_length* sequence as the output where that sequence is the original sequence shifted one letter to the right. For example:\n",
        "\n",
        "```input: Hell | output: ello```\n",
        "\n",
        "Our first step will be to create a stream of characters from our text data."
      ],
      "metadata": {
        "id": "asAgpTfVxp5v"
      }
    },
    {
      "cell_type": "code",
      "source": [
        "seq_length = 100 # length of sequence for a training example\n",
        "examples_per_epoch = len(text)// (seq_length+1)\n",
        "\n",
        "# create entire text stream into dataset\n",
        "char_dataset =tf.data.Dataset.from_tensor_slices(text_as_int)"
      ],
      "metadata": {
        "id": "0_kmrYFJx8eB"
      },
      "execution_count": 12,
      "outputs": []
    },
    {
      "cell_type": "code",
      "source": [
        "# using batch method to turn this stream of characters into batch of desired length\n",
        "sequences = char_dataset.batch(seq_length+1, drop_remainder = True)"
      ],
      "metadata": {
        "id": "5kP8QboBzeJi"
      },
      "execution_count": 14,
      "outputs": []
    },
    {
      "cell_type": "code",
      "source": [
        "# use these sequences of length 101 and split them into input and output\n",
        "def split_input_target(chunk): # for example : hello\n",
        "    input_text = chunk[:-1] # hell\n",
        "    target_text = chunk[1:] # ello\n",
        "    return input_text, target_text # hell, ello\n",
        "\n",
        "dataset = sequences.map(split_input_target) # we use map to apply the above function to every entry"
      ],
      "metadata": {
        "id": "_OXa0FUI2Rbi"
      },
      "execution_count": 15,
      "outputs": []
    },
    {
      "cell_type": "code",
      "source": [
        "for x,y in dataset.take(2):\n",
        "  print(\"\\n\\nEXAMPLE\\n\")\n",
        "  print(\"INPUT\")\n",
        "  print(int_to_text(x))\n",
        "  print(\"\\nOUTPUT\")\n",
        "  print(int_to_text(y))\n"
      ],
      "metadata": {
        "colab": {
          "base_uri": "https://localhost:8080/"
        },
        "id": "_R3fhlZf5u3x",
        "outputId": "14791f1c-4c77-446f-aa8a-feca2f97e0c3"
      },
      "execution_count": 16,
      "outputs": [
        {
          "output_type": "stream",
          "name": "stdout",
          "text": [
            "\n",
            "\n",
            "EXAMPLE\n",
            "\n",
            "INPUT\n",
            "First Citizen:\n",
            "Before we proceed any further, hear me speak.\n",
            "\n",
            "All:\n",
            "Speak, speak.\n",
            "\n",
            "First Citizen:\n",
            "You\n",
            "\n",
            "OUTPUT\n",
            "irst Citizen:\n",
            "Before we proceed any further, hear me speak.\n",
            "\n",
            "All:\n",
            "Speak, speak.\n",
            "\n",
            "First Citizen:\n",
            "You \n",
            "\n",
            "\n",
            "EXAMPLE\n",
            "\n",
            "INPUT\n",
            "are all resolved rather to die than to famish?\n",
            "\n",
            "All:\n",
            "Resolved. resolved.\n",
            "\n",
            "First Citizen:\n",
            "First, you \n",
            "\n",
            "OUTPUT\n",
            "re all resolved rather to die than to famish?\n",
            "\n",
            "All:\n",
            "Resolved. resolved.\n",
            "\n",
            "First Citizen:\n",
            "First, you k\n"
          ]
        }
      ]
    },
    {
      "cell_type": "code",
      "source": [
        "BATCH_SIZE = 64\n",
        "VOCAB_SIZE = len(vocab)  # vocab is number of unique characters\n",
        "EMBEDDING_DIM = 256\n",
        "RNN_UNITS = 1024\n",
        "\n",
        "# Buffer size to shuffle the dataset\n",
        "# (TF data is designed to work with possibly infinite sequences,\n",
        "# so it doesn't attempt to shuffle the entire sequence in memory. Instead,\n",
        "# it maintains a buffer in which it shuffles elements).\n",
        "BUFFER_SIZE = 10000\n",
        "\n",
        "data = dataset.shuffle(BUFFER_SIZE).batch(BATCH_SIZE, drop_remainder=True)"
      ],
      "metadata": {
        "id": "zY-tvnOr6Uzq"
      },
      "execution_count": 17,
      "outputs": []
    },
    {
      "cell_type": "markdown",
      "source": [
        "###Building the Model\n",
        "Now it is time to build the model. We will use an embedding layer a LSTM and one dense layer that contains a node for each unique character in our training data. The dense layer will give us a probability distribution over all nodes."
      ],
      "metadata": {
        "id": "0RoDH0sW7KFm"
      }
    },
    {
      "cell_type": "code",
      "source": [
        "def build_model(vocab_size, embedding_dim, rnn_units, batch_size):\n",
        "  model = tf.keras.Sequential([\n",
        "    tf.keras.layers.Embedding(vocab_size, embedding_dim,\n",
        "                              batch_input_shape=[batch_size, None]),\n",
        "    tf.keras.layers.LSTM(rnn_units,\n",
        "                        return_sequences=True,\n",
        "                        stateful=True,\n",
        "                        recurrent_initializer='glorot_uniform'),\n",
        "    tf.keras.layers.Dense(vocab_size)\n",
        "  ])\n",
        "  return model\n",
        "\n",
        "model = build_model(VOCAB_SIZE,EMBEDDING_DIM, RNN_UNITS, BATCH_SIZE)\n",
        "model.summary()"
      ],
      "metadata": {
        "colab": {
          "base_uri": "https://localhost:8080/"
        },
        "id": "_opMcDcq7RBm",
        "outputId": "db1c21de-3be5-4782-d37b-c0134bbc114a"
      },
      "execution_count": 18,
      "outputs": [
        {
          "output_type": "stream",
          "name": "stdout",
          "text": [
            "Model: \"sequential\"\n",
            "_________________________________________________________________\n",
            " Layer (type)                Output Shape              Param #   \n",
            "=================================================================\n",
            " embedding (Embedding)       (64, None, 256)           16640     \n",
            "                                                                 \n",
            " lstm (LSTM)                 (64, None, 1024)          5246976   \n",
            "                                                                 \n",
            " dense (Dense)               (64, None, 65)            66625     \n",
            "                                                                 \n",
            "=================================================================\n",
            "Total params: 5,330,241\n",
            "Trainable params: 5,330,241\n",
            "Non-trainable params: 0\n",
            "_________________________________________________________________\n"
          ]
        }
      ]
    },
    {
      "cell_type": "markdown",
      "source": [
        "###Creating a Loss Function\n",
        "Now we are going to create our own loss function for this problem. This is because our model will output a (64, sequence_length, 65) shaped tensor that represents the probability distribution of each character at each timestep for every sequence in the batch."
      ],
      "metadata": {
        "id": "8pLrIwFj7e3R"
      }
    },
    {
      "cell_type": "markdown",
      "source": [
        "However, before we do that let's have a look at a sample input and the output from our untrained model. This is so we can understand what the model is giving us."
      ],
      "metadata": {
        "id": "payVGwkw7pcW"
      }
    },
    {
      "cell_type": "code",
      "source": [
        "for input_example_batch, target_example_batch in data.take(1):\n",
        "  example_batch_predictions = model(input_example_batch)  # ask our model for a prediction on our first batch of training data (64 entries)\n",
        "  print(example_batch_predictions.shape, \"# (batch_size, sequence_length, vocab_size)\")  # print out the output shape"
      ],
      "metadata": {
        "colab": {
          "base_uri": "https://localhost:8080/"
        },
        "id": "UHXF6trg7uRM",
        "outputId": "1367af60-c9ad-4dbb-f365-b668de4c0836"
      },
      "execution_count": 19,
      "outputs": [
        {
          "output_type": "stream",
          "name": "stdout",
          "text": [
            "(64, 100, 65) # (batch_size, sequence_length, vocab_size)\n"
          ]
        }
      ]
    },
    {
      "cell_type": "code",
      "source": [
        "# we can see that the predicition is an array of 64 arrays, one for each entry in the batch\n",
        "print(len(example_batch_predictions))\n",
        "print(example_batch_predictions)"
      ],
      "metadata": {
        "colab": {
          "base_uri": "https://localhost:8080/"
        },
        "id": "RiPzA6L17ywJ",
        "outputId": "c79abca5-3f74-40c4-fb52-4f4bf0c73703"
      },
      "execution_count": 20,
      "outputs": [
        {
          "output_type": "stream",
          "name": "stdout",
          "text": [
            "64\n",
            "tf.Tensor(\n",
            "[[[ 6.9108773e-03  5.3033661e-03  1.3440752e-03 ... -2.6937143e-03\n",
            "    1.3620747e-03 -3.2794173e-04]\n",
            "  [ 3.4022448e-03  6.7274896e-03 -1.2276853e-03 ... -2.8033666e-03\n",
            "   -9.6223084e-05 -3.3666911e-03]\n",
            "  [ 3.4799108e-03  9.6073486e-03 -1.4614845e-03 ... -9.2128711e-04\n",
            "   -3.8834573e-03 -2.1346174e-03]\n",
            "  ...\n",
            "  [ 5.9287301e-03  6.2836204e-03  7.7166529e-03 ...  2.3218822e-03\n",
            "    1.3529011e-03 -1.0486310e-03]\n",
            "  [ 7.7687418e-03  6.3430215e-03  1.1377629e-02 ...  6.9505093e-04\n",
            "    4.3713762e-03  1.8154928e-03]\n",
            "  [ 4.1177724e-03  1.8239446e-03  7.1210391e-03 ... -5.3840561e-04\n",
            "    3.2439232e-03 -2.4989811e-03]]\n",
            "\n",
            " [[ 1.0422568e-03  4.8418180e-03 -1.6369161e-03 ...  2.2528722e-04\n",
            "   -3.5355412e-03  4.0890020e-04]\n",
            "  [ 1.2392149e-04  4.8133461e-03  2.4328893e-03 ...  1.2697529e-03\n",
            "   -4.9902978e-03  4.5902832e-04]\n",
            "  [-4.8546994e-04  5.6736926e-03 -3.9585978e-03 ... -1.2896729e-03\n",
            "   -4.1531594e-03 -6.8601518e-04]\n",
            "  ...\n",
            "  [ 2.8872332e-03  1.1626582e-02 -1.1876889e-02 ... -2.4883370e-03\n",
            "   -2.4736142e-03  1.0541873e-04]\n",
            "  [-4.1919788e-03  8.8417390e-03 -9.9190073e-03 ... -1.1312960e-02\n",
            "   -2.0975936e-03 -1.3528279e-03]\n",
            "  [-4.1646152e-03  1.2717450e-02 -6.8649598e-03 ... -7.2416635e-03\n",
            "    8.4726058e-04 -1.2724272e-03]]\n",
            "\n",
            " [[ 5.7013356e-04  1.0572311e-03 -5.1473966e-03 ... -1.9520978e-03\n",
            "   -2.3228726e-03 -1.2486512e-03]\n",
            "  [ 6.0182586e-03  5.6712236e-04 -5.3782947e-03 ...  3.3970532e-04\n",
            "   -5.8829901e-04 -3.8654744e-03]\n",
            "  [ 4.8165782e-03  5.5602090e-03 -5.2657081e-03 ... -1.2312806e-04\n",
            "   -5.0331391e-03 -2.7625023e-03]\n",
            "  ...\n",
            "  [ 7.8297537e-03  1.5196351e-02 -5.4296376e-03 ... -4.0063090e-03\n",
            "   -1.4582869e-03 -6.2172441e-04]\n",
            "  [ 6.0349577e-03  1.6524900e-02 -4.8687747e-03 ... -2.0360220e-03\n",
            "   -4.4670012e-03  7.6755928e-04]\n",
            "  [ 2.2533564e-03  1.5773945e-02 -6.7978497e-03 ...  4.8121396e-03\n",
            "    9.2163403e-04  7.7185570e-04]]\n",
            "\n",
            " ...\n",
            "\n",
            " [[-9.9898304e-04 -1.9762255e-03 -2.5605685e-03 ...  1.0037324e-03\n",
            "   -4.3410677e-03 -7.6299696e-04]\n",
            "  [-3.5221176e-04  3.0035917e-03 -2.8352987e-03 ...  8.9912536e-04\n",
            "   -6.9571002e-03 -4.3203554e-04]\n",
            "  [ 3.3246037e-03  3.6710929e-03 -8.0476897e-03 ... -2.4137532e-03\n",
            "   -2.4893098e-03 -1.1920669e-03]\n",
            "  ...\n",
            "  [ 8.5576205e-03  9.2867538e-03 -2.9315995e-03 ...  4.1107293e-03\n",
            "   -4.9632047e-03 -2.7561327e-03]\n",
            "  [ 8.5760616e-03  4.2506284e-03  3.2333117e-03 ...  6.7488011e-03\n",
            "    2.9331660e-03  6.6580949e-04]\n",
            "  [ 2.3535406e-04  3.4838491e-03  7.6869456e-04 ... -3.6355485e-03\n",
            "    2.6504463e-03 -8.0120430e-04]]\n",
            "\n",
            " [[ 8.3125499e-04  4.5996676e-03 -6.4561786e-03 ... -1.1441654e-03\n",
            "   -3.3271988e-03 -1.1561384e-03]\n",
            "  [ 4.0064938e-03  3.7832658e-03  1.2971361e-03 ... -7.1930356e-04\n",
            "   -3.1787292e-03 -1.3438371e-03]\n",
            "  [ 6.1517349e-03  6.5000160e-03  4.0521580e-03 ...  2.4954898e-03\n",
            "   -6.4795110e-03  5.0163735e-04]\n",
            "  ...\n",
            "  [-5.9774416e-03  2.8330879e-03 -2.6302142e-03 ...  6.3779540e-03\n",
            "    3.2814965e-03  1.2133045e-04]\n",
            "  [-2.2049244e-03  4.5188009e-03  3.7969444e-03 ...  7.8008012e-03\n",
            "    3.5194107e-03 -2.1638148e-03]\n",
            "  [-5.4122382e-03  5.0337268e-03  8.6489646e-04 ...  7.7776127e-03\n",
            "    4.6221074e-05  2.0595465e-04]]\n",
            "\n",
            " [[-2.2690869e-03  1.7478222e-03 -9.3489485e-03 ...  3.9560525e-03\n",
            "   -6.9723325e-04  4.6328412e-04]\n",
            "  [-4.3597067e-04 -5.0587591e-04 -3.2836478e-03 ...  4.3223030e-03\n",
            "   -8.5784681e-03  4.3726759e-04]\n",
            "  [-2.0810263e-04  1.1708771e-03 -7.4406052e-03 ...  1.7000372e-03\n",
            "   -9.0030618e-03 -7.3558139e-04]\n",
            "  ...\n",
            "  [ 1.2896737e-02  7.8253727e-03 -5.4919864e-03 ... -6.8732677e-03\n",
            "    2.4020409e-03  2.9976320e-04]\n",
            "  [ 7.5129503e-03  4.4960873e-03 -5.8448445e-03 ... -5.0777942e-03\n",
            "   -2.2486530e-03 -5.1365176e-04]\n",
            "  [ 5.0883433e-03  8.0617098e-03 -4.8216921e-03 ... -4.2640339e-03\n",
            "   -5.0848830e-03 -1.6838347e-04]]], shape=(64, 100, 65), dtype=float32)\n"
          ]
        }
      ]
    },
    {
      "cell_type": "code",
      "source": [
        "# lets examine one prediction\n",
        "pred = example_batch_predictions[0]\n",
        "print(len(pred))\n",
        "print(pred)\n",
        "# notice this is a 2d array of length 100, where each interior array is the prediction for the next character at each time step"
      ],
      "metadata": {
        "colab": {
          "base_uri": "https://localhost:8080/"
        },
        "id": "lK84_Y_174H6",
        "outputId": "f9060841-fcf0-4832-99ab-3395a928659c"
      },
      "execution_count": 21,
      "outputs": [
        {
          "output_type": "stream",
          "name": "stdout",
          "text": [
            "100\n",
            "tf.Tensor(\n",
            "[[ 6.9108773e-03  5.3033661e-03  1.3440752e-03 ... -2.6937143e-03\n",
            "   1.3620747e-03 -3.2794173e-04]\n",
            " [ 3.4022448e-03  6.7274896e-03 -1.2276853e-03 ... -2.8033666e-03\n",
            "  -9.6223084e-05 -3.3666911e-03]\n",
            " [ 3.4799108e-03  9.6073486e-03 -1.4614845e-03 ... -9.2128711e-04\n",
            "  -3.8834573e-03 -2.1346174e-03]\n",
            " ...\n",
            " [ 5.9287301e-03  6.2836204e-03  7.7166529e-03 ...  2.3218822e-03\n",
            "   1.3529011e-03 -1.0486310e-03]\n",
            " [ 7.7687418e-03  6.3430215e-03  1.1377629e-02 ...  6.9505093e-04\n",
            "   4.3713762e-03  1.8154928e-03]\n",
            " [ 4.1177724e-03  1.8239446e-03  7.1210391e-03 ... -5.3840561e-04\n",
            "   3.2439232e-03 -2.4989811e-03]], shape=(100, 65), dtype=float32)\n"
          ]
        }
      ]
    },
    {
      "cell_type": "code",
      "source": [
        "# and finally well look at a prediction at the first timestep\n",
        "time_pred = pred[0]\n",
        "print(len(time_pred))\n",
        "print(time_pred)\n",
        "# and of course its 65 values representing the probabillity of each character occuring next"
      ],
      "metadata": {
        "colab": {
          "base_uri": "https://localhost:8080/"
        },
        "id": "aQJYKUs-75D0",
        "outputId": "c500e566-108b-4e07-c037-6cd37b0f1ad5"
      },
      "execution_count": 22,
      "outputs": [
        {
          "output_type": "stream",
          "name": "stdout",
          "text": [
            "65\n",
            "tf.Tensor(\n",
            "[ 6.9108773e-03  5.3033661e-03  1.3440752e-03 -5.5161798e-03\n",
            "  1.8172832e-04  1.1176679e-03 -4.3828958e-03 -8.2184735e-04\n",
            "  1.9622257e-03 -1.4475846e-03 -5.2393135e-03 -3.7555627e-03\n",
            "  6.2909268e-04  3.1934071e-03  7.0470414e-04 -5.0566411e-03\n",
            " -4.0326733e-03 -5.2320550e-04  3.4645125e-03 -1.1724551e-03\n",
            " -3.2369313e-03  2.1221554e-03  1.0838794e-03 -3.1440181e-04\n",
            "  7.0579164e-04  1.2543518e-03  1.0887710e-03 -2.4445711e-03\n",
            " -1.0187144e-04  3.3791750e-03  3.3447412e-03  1.6005801e-03\n",
            "  5.0645778e-03 -3.2322740e-03 -4.2445280e-04  4.4620247e-03\n",
            " -7.1328366e-04  7.6922763e-04  8.7235862e-04  7.6370677e-03\n",
            " -4.8498274e-05  1.2820244e-03  4.0964660e-04 -9.0387918e-04\n",
            "  1.7341546e-03 -4.4516986e-04 -2.6031453e-03  1.1000434e-03\n",
            " -3.8502708e-03  1.2588131e-03  4.4594645e-03  5.5959756e-03\n",
            " -3.4557568e-04 -3.1046721e-04 -2.0011838e-03  6.0208584e-04\n",
            "  1.6860325e-03  3.0052941e-03  1.1122103e-03 -1.6212420e-03\n",
            " -2.6269946e-03 -2.3308371e-03 -2.6937143e-03  1.3620747e-03\n",
            " -3.2794173e-04], shape=(65,), dtype=float32)\n"
          ]
        }
      ]
    },
    {
      "cell_type": "code",
      "source": [
        "# If we want to determine the predicted character we need to sample the output distribution (pick a value based on probabillity)\n",
        "sampled_indices = tf.random.categorical(pred, num_samples=1)\n",
        "\n",
        "# now we can reshape that array and convert all the integers to numbers to see the actual characters\n",
        "sampled_indices = np.reshape(sampled_indices, (1, -1))[0]\n",
        "predicted_chars = int_to_text(sampled_indices)\n",
        "\n",
        "predicted_chars  # and this is what the model predicted for training sequence 1"
      ],
      "metadata": {
        "colab": {
          "base_uri": "https://localhost:8080/",
          "height": 37
        },
        "id": "hYPSYkHL7_qQ",
        "outputId": "10d3525e-8ded-43a5-b05d-a82d0c54d153"
      },
      "execution_count": 23,
      "outputs": [
        {
          "output_type": "execute_result",
          "data": {
            "text/plain": [
              "\"K;pKW,vgvN'WDV-p?qeNP;L.EGJurqKh'KRlM\\nChdfhKNlH;Y'S:Jfgrd$Tu3mJqgAKqLLWVqR3dSs;v;aIIlhEV$jWxLGtaBEv!\""
            ],
            "application/vnd.google.colaboratory.intrinsic+json": {
              "type": "string"
            }
          },
          "metadata": {},
          "execution_count": 23
        }
      ]
    },
    {
      "cell_type": "markdown",
      "source": [
        "So now we need to create a loss function that can compare that output to the expected output and give us some numeric value representing how close the two were."
      ],
      "metadata": {
        "id": "JX51By1j9OwZ"
      }
    },
    {
      "cell_type": "code",
      "source": [
        "def loss(labels, logits):\n",
        "  return tf.keras.losses.sparse_categorical_crossentropy(labels, logits, from_logits=True)"
      ],
      "metadata": {
        "id": "G46MEyo39UGB"
      },
      "execution_count": 24,
      "outputs": []
    },
    {
      "cell_type": "markdown",
      "source": [
        "###Compiling the Model\n",
        "At this point we can think of our problem as a classification problem where the model predicts the probabillity of each unique letter coming next."
      ],
      "metadata": {
        "id": "XiqANEnh9Y78"
      }
    },
    {
      "cell_type": "code",
      "source": [
        "model.compile(optimizer='adam', loss=loss)"
      ],
      "metadata": {
        "id": "yqbVyi049dP-"
      },
      "execution_count": 25,
      "outputs": []
    },
    {
      "cell_type": "markdown",
      "source": [
        "###Creating Checkpoints\n",
        "Now we are going to setup and configure our model to save checkpoinst as it trains. This will allow us to load our model from a checkpoint and continue training it."
      ],
      "metadata": {
        "id": "1ZyQyFqy9iRk"
      }
    },
    {
      "cell_type": "code",
      "source": [
        "# Directory where the checkpoints will be saved\n",
        "checkpoint_dir = './training_checkpoints'\n",
        "# Name of the checkpoint files\n",
        "checkpoint_prefix = os.path.join(checkpoint_dir, \"ckpt_{epoch}\")\n",
        "\n",
        "checkpoint_callback=tf.keras.callbacks.ModelCheckpoint(\n",
        "    filepath=checkpoint_prefix,\n",
        "    save_weights_only=True)"
      ],
      "metadata": {
        "id": "MVv73ser-jgh"
      },
      "execution_count": 26,
      "outputs": []
    },
    {
      "cell_type": "code",
      "source": [
        "# Training\n",
        "\n",
        "history = model.fit(data, epochs=10, callbacks=[checkpoint_callback])"
      ],
      "metadata": {
        "colab": {
          "base_uri": "https://localhost:8080/"
        },
        "id": "rZTPsGzb-kFp",
        "outputId": "bd76d7ed-7eb3-4982-9726-91404fd3b94d"
      },
      "execution_count": 28,
      "outputs": [
        {
          "output_type": "stream",
          "name": "stdout",
          "text": [
            "Epoch 1/10\n",
            "172/172 [==============================] - 13s 68ms/step - loss: 0.9046\n",
            "Epoch 2/10\n",
            "172/172 [==============================] - 13s 69ms/step - loss: 0.8653\n",
            "Epoch 3/10\n",
            "172/172 [==============================] - 13s 70ms/step - loss: 0.8264\n",
            "Epoch 4/10\n",
            "172/172 [==============================] - 13s 69ms/step - loss: 0.7910\n",
            "Epoch 5/10\n",
            "172/172 [==============================] - 13s 69ms/step - loss: 0.7565\n",
            "Epoch 6/10\n",
            "172/172 [==============================] - 14s 70ms/step - loss: 0.7239\n",
            "Epoch 7/10\n",
            "172/172 [==============================] - 13s 68ms/step - loss: 0.6943\n",
            "Epoch 8/10\n",
            "172/172 [==============================] - 13s 68ms/step - loss: 0.6670\n",
            "Epoch 9/10\n",
            "172/172 [==============================] - 13s 68ms/step - loss: 0.6406\n",
            "Epoch 10/10\n",
            "172/172 [==============================] - 13s 69ms/step - loss: 0.6206\n"
          ]
        }
      ]
    },
    {
      "cell_type": "markdown",
      "source": [
        "###Loading the Model\n",
        "We'll rebuild the model from a checkpoint using a batch_size of 1 so that we can feed one peice of text to the model and have it make a prediction."
      ],
      "metadata": {
        "id": "tOvE-YjC_kPc"
      }
    },
    {
      "cell_type": "code",
      "source": [
        "model = build_model(VOCAB_SIZE, EMBEDDING_DIM, RNN_UNITS, batch_size=1)"
      ],
      "metadata": {
        "id": "N6Wixnvu_psH"
      },
      "execution_count": 29,
      "outputs": []
    },
    {
      "cell_type": "markdown",
      "source": [
        "Once the model has finished training, we can find the **lastest checkpoint** that stores the models weights using the following line."
      ],
      "metadata": {
        "id": "gqR90ycL_wVF"
      }
    },
    {
      "cell_type": "code",
      "source": [
        "model.load_weights(tf.train.latest_checkpoint(checkpoint_dir))\n",
        "model.build(tf.TensorShape([1, None]))"
      ],
      "metadata": {
        "id": "oQtr3o2P_1AW"
      },
      "execution_count": 30,
      "outputs": []
    },
    {
      "cell_type": "markdown",
      "source": [
        "###Generating Text\n",
        "Now we can use the lovely function provided by tensorflow to generate some text using any starting string we'd like."
      ],
      "metadata": {
        "id": "dxr0AH6XAUYF"
      }
    },
    {
      "cell_type": "code",
      "source": [
        "def generate_text(model, start_string):\n",
        "  # Evaluation step (generating text using the learned model)\n",
        "\n",
        "  # Number of characters to generate\n",
        "  num_generate = 800\n",
        "\n",
        "  # Converting our start string to numbers (vectorizing)\n",
        "  input_eval = [char2idx[s] for s in start_string]\n",
        "  input_eval = tf.expand_dims(input_eval, 0)\n",
        "\n",
        "  # Empty string to store our results\n",
        "  text_generated = []\n",
        "\n",
        "  # Low temperatures results in more predictable text.\n",
        "  # Higher temperatures results in more surprising text.\n",
        "  # Experiment to find the best setting.\n",
        "  temperature = 1.0\n",
        "\n",
        "  # Here batch size == 1\n",
        "  model.reset_states()\n",
        "  for i in range(num_generate):\n",
        "      predictions = model(input_eval)\n",
        "      # remove the batch dimension\n",
        "    \n",
        "      predictions = tf.squeeze(predictions, 0)\n",
        "\n",
        "      # using a categorical distribution to predict the character returned by the model\n",
        "      predictions = predictions / temperature\n",
        "      predicted_id = tf.random.categorical(predictions, num_samples=1)[-1,0].numpy()\n",
        "\n",
        "      # We pass the predicted character as the next input to the model\n",
        "      # along with the previous hidden state\n",
        "      input_eval = tf.expand_dims([predicted_id], 0)\n",
        "\n",
        "      text_generated.append(idx2char[predicted_id])\n",
        "\n",
        "  return (start_string + ''.join(text_generated))"
      ],
      "metadata": {
        "id": "ij_T2pN1Aau4"
      },
      "execution_count": 32,
      "outputs": []
    },
    {
      "cell_type": "code",
      "source": [
        "inp = input(\"Type a starting string: \")\n",
        "print(generate_text(model, inp))"
      ],
      "metadata": {
        "colab": {
          "base_uri": "https://localhost:8080/"
        },
        "id": "mizqpzuWAfFB",
        "outputId": "5bdebd42-b7c5-43dd-e852-cb82b68b67b5"
      },
      "execution_count": 33,
      "outputs": [
        {
          "output_type": "stream",
          "name": "stdout",
          "text": [
            "Type a starting string: i go for morning walk to park near to my house\n",
            "i go for morning walk to park near to my house,\n",
            "That you notoly office and to yield!\n",
            "\n",
            "AEdile:\n",
            "He's coming;\n",
            "And many strokes, they'll go along with thee,\n",
            "Justee, I know not what I did but speak\n",
            "And bid him call the heir of this apparel,\n",
            "That e'er I wish'd of that, my due by with an\n",
            "fancias on wine. But what say you to me?\n",
            "\n",
            "BIONDELLO:\n",
            "Force and holy loverce!\n",
            "\n",
            "PRINCE EDWARD:\n",
            "A blessed, bloody, are thy hands, and thou takest for player\n",
            "so to our trestory.\n",
            "\n",
            "PETRUCHIO:\n",
            "Sirrah young affection lack their griefs,\n",
            "To visit you where you stay to wripe up,\n",
            "And this same place, take't.\n",
            "\n",
            "BIONDELLO:\n",
            "Tainth!\n",
            "Speak to my side: come by my true love's requirition, officence, and I mean\n",
            "For 'tis no chat.\n",
            "\n",
            "PETRUCHIO:\n",
            "The very wreck me not, I dispose of him.\n",
            "May now tend the world of victory,\n",
            "Like voices that he doth quicken him.\n",
            "\n",
            "MENENIUS:\n",
            "He's remorse; t\n"
          ]
        }
      ]
    },
    {
      "cell_type": "code",
      "source": [],
      "metadata": {
        "id": "MR1f95ASBO4T"
      },
      "execution_count": null,
      "outputs": []
    }
  ],
  "metadata": {
    "colab": {
      "collapsed_sections": [],
      "name": "Machine learning-TensorFlow Practice5-RNN Play Generator.ipynb",
      "provenance": []
    },
    "kernelspec": {
      "display_name": "Python 3",
      "name": "python3"
    },
    "language_info": {
      "name": "python"
    },
    "accelerator": "GPU",
    "gpuClass": "standard"
  },
  "nbformat": 4,
  "nbformat_minor": 0
}